{
 "cells": [
  {
   "cell_type": "markdown",
   "metadata": {},
   "source": [
    "# Exercise 1\n",
    "a) Create a code that calculates A where A is defined as:\n",
    "$$A = \\sum_1^n n $$"
   ]
  },
  {
   "cell_type": "code",
   "execution_count": null,
   "metadata": {},
   "outputs": [],
   "source": [
    "import numpy as np\n",
    "import matplotlib.pyplot as plt"
   ]
  },
  {
   "cell_type": "code",
   "execution_count": null,
   "metadata": {},
   "outputs": [],
   "source": [
    "n = 20\n",
    "res=np.sum(range(0,n+1))\n",
    "print(res)"
   ]
  },
  {
   "cell_type": "markdown",
   "metadata": {},
   "source": [
    "b) Plot the value of A as n goes from 1 to 20"
   ]
  },
  {
   "cell_type": "code",
   "execution_count": null,
   "metadata": {},
   "outputs": [],
   "source": [
    "\n",
    "resa=np.cumsum(range(n+1))"
   ]
  },
  {
   "cell_type": "markdown",
   "metadata": {},
   "source": [
    "c) Plot x and y with the following equations:\n",
    "$$\n",
    "\\theta \\in [0,2\\pi] \\\\\n",
    "x = 16  \\sin^3(\\theta)\\\\\n",
    "y = 13  \\cos(\\theta) - 5 \\cos(2\\theta) - 2\\cos(3\\theta) - \\cos(4\\theta)\n",
    "$$"
   ]
  },
  {
   "cell_type": "code",
   "execution_count": null,
   "metadata": {},
   "outputs": [],
   "source": [
    "theta= np.linspace(0, 2*np.pi,1000)\n",
    "x=16*(np.sin(theta)**3)\n",
    "y=13*np.cos(theta)-(5*np.cos(2*theta))-(2*np.cos(3*theta))-np.cos(4*theta)\n",
    "plt.plot(x,y)\n",
    "plt.show()\n"
   ]
  },
  {
   "cell_type": "markdown",
   "metadata": {},
   "source": [
    "# Exercise 2: The Collatz conjecture\n",
    "\n",
    "The Conjecture is the following :\n",
    "Given a number n $\\in \\mathbb{N}^+$ if it is even divide it by 2 and if it is odd multiply it by 3 and add 1. \n",
    "According to the conjecture this will always converge to 1. \n",
    "\n",
    "Write a code that calculates the steps of the Collatz Conjecture till it reches 1 and plot them. \n",
    "\n"
   ]
  },
  {
   "cell_type": "code",
   "execution_count": null,
   "metadata": {},
   "outputs": [],
   "source": [
    "count=0\n",
    "n=int(input())\n",
    "list1=[n]\n",
    "indexes=[0]\n",
    "while(n!=1):\n",
    "    if n%2==0:\n",
    "        n=n//2\n",
    "    else:\n",
    "        n=(3*n)+1\n",
    "    count=count+1\n",
    "    list1.append(n)\n",
    "    indexes.append(count)\n",
    "\n",
    "print(list1)\n",
    "print(indexes)\n",
    "\n",
    "plt.plot(indexes, list1)\n",
    "plt.show()\n"
   ]
  },
  {
   "cell_type": "markdown",
   "metadata": {},
   "source": [
    "# Exercise 3: Benford's Law. \n",
    "\n",
    "Benford’s law describes the relative frequency distribution for leading digits of numbers in datasets. Leading digits with smaller values occur more frequently than larger values. This law states that approximately 30% of numbers start with a 1 while less than 5% start with a 9. According to this law, leading 1s appear 6.5 times as often as leading 9s! Benford’s law is also known as the First Digit Law.\n",
    "\n",
    "We will be trying this using the world population for each contry in 'word_population.csv'.\n",
    "You have to load the data, only keep the first digit ( if the number is 1234 keep 1). Then histogram the values."
   ]
  },
  {
   "cell_type": "code",
   "execution_count": null,
   "metadata": {},
   "outputs": [],
   "source": [
    "Data=np.loadtxt(\"world_population.csv\",delimiter=\",\",usecols=5,skiprows=1)\n",
    "data=[]\n",
    "for d in Data:\n",
    "    d=str(d)\n",
    "    d=d[0]\n",
    "    data.append(int(d))\n",
    "print(data)\n",
    "plt.hist(data, bins=50, density=True)\n",
    "plt.show()\n"
   ]
  },
  {
   "cell_type": "markdown",
   "metadata": {},
   "source": [
    "# Linear Algebra"
   ]
  },
  {
   "cell_type": "markdown",
   "metadata": {},
   "source": [
    "$$\n",
    "x + 5y + 5z = 18\\\\\n",
    "8x + 14y -6z = 46\\\\\n",
    "4x + 6y + 9z = 33\\\\\n",
    "$$\n",
    "\n",
    "Solve the system\n"
   ]
  },
  {
   "cell_type": "code",
   "execution_count": null,
   "metadata": {},
   "outputs": [],
   "source": [
    "\n",
    "A=np.array([[1,5,5],[8,14,-6],[4,6,9]])\n",
    "b=np.array([18,46,33])\n",
    "\n",
    "res=np.linalg.solve(A,b)\n",
    "print(res)\n"
   ]
  },
  {
   "cell_type": "markdown",
   "metadata": {},
   "source": [
    "$$\n",
    "x + 2y = 4\\\\\n",
    "x + 2y = 5\n",
    "$$\n",
    "Solve the system with the best solution possible"
   ]
  },
  {
   "cell_type": "code",
   "execution_count": null,
   "metadata": {},
   "outputs": [],
   "source": [
    "A=np.array([[1,2],[1,2]])\n",
    "b=np.array([4,5])\n",
    "res=np.linalg.lstsq(A,b)\n",
    "print(res)\n"
   ]
  }
 ],
 "metadata": {
  "kernelspec": {
   "display_name": "Python 3",
   "language": "python",
   "name": "python3"
  },
  "language_info": {
   "codemirror_mode": {
    "name": "ipython",
    "version": 3
   },
   "file_extension": ".py",
   "mimetype": "text/x-python",
   "name": "python",
   "nbconvert_exporter": "python",
   "pygments_lexer": "ipython3",
   "version": "3.11.0"
  },
  "orig_nbformat": 4
 },
 "nbformat": 4,
 "nbformat_minor": 2
}
